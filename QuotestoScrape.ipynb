{
  "nbformat": 4,
  "nbformat_minor": 0,
  "metadata": {
    "colab": {
      "provenance": []
    },
    "kernelspec": {
      "name": "python3",
      "display_name": "Python 3"
    },
    "language_info": {
      "name": "python"
    }
  },
  "cells": [
    {
      "cell_type": "code",
      "source": [
        "import requests\n",
        "from bs4 import BeautifulSoup as bs\n",
        "import pandas as pd\n",
        "\n",
        "r=requests.get(\"http://quotes.toscrape.com\")\n",
        "soup=bs(r.content,'html.parser')\n",
        "quotes=soup.select('.row .text')\n",
        "authors=soup.select('.row .author')\n",
        "tags=soup.select('.row .tags')\n",
        "quotesList=[]\n",
        "authorList=[]\n",
        "tagRowList=[]\n",
        "for quote in quotes:\n",
        "    el=quote.text.strip()\n",
        "    quotesList.append(el)\n",
        "for author in authors:\n",
        "    el=author.text.strip()\n",
        "    authorList.append(el)\n",
        "for tag in tags:\n",
        "    individual_tags=[a.get_text().strip() for a in tag.select('a')]\n",
        "    combined_tags=','.join(individual_tags)\n",
        "    tagRowList.append(combined_tags)\n",
        "df=pd.DataFrame({'Quotes': quotesList,'Authors': authorList,'Tags': tagRowList})\n",
        "print(df)\n",
        "qa = {\n",
        "    {question:\"put the question here\",context:\"put the context here\"},\n",
        "    {question:\"put the question here\",context:\"put the context here\"},\n",
        "    {question:\"put the question here\",context:\"put the context here\"},\n",
        "}\n"
      ],
      "metadata": {
        "colab": {
          "base_uri": "https://localhost:8080/"
        },
        "id": "_ZJr8OyfTr0T",
        "outputId": "86d27563-b957-4b48-86d2-b393b7ff5a43"
      },
      "execution_count": null,
      "outputs": [
        {
          "output_type": "stream",
          "name": "stdout",
          "text": [
            "                                              Quotes            Authors  \\\n",
            "0  “The world as we have created it is a process ...    Albert Einstein   \n",
            "1  “It is our choices, Harry, that show what we t...       J.K. Rowling   \n",
            "2  “There are only two ways to live your life. On...    Albert Einstein   \n",
            "3  “The person, be it gentleman or lady, who has ...        Jane Austen   \n",
            "4  “Imperfection is beauty, madness is genius and...     Marilyn Monroe   \n",
            "5  “Try not to become a man of success. Rather be...    Albert Einstein   \n",
            "6  “It is better to be hated for what you are tha...         André Gide   \n",
            "7  “I have not failed. I've just found 10,000 way...   Thomas A. Edison   \n",
            "8  “A woman is like a tea bag; you never know how...  Eleanor Roosevelt   \n",
            "9  “A day without sunshine is like, you know, nig...       Steve Martin   \n",
            "\n",
            "                                       Tags  \n",
            "0       change,deep-thoughts,thinking,world  \n",
            "1                         abilities,choices  \n",
            "2  inspirational,life,live,miracle,miracles  \n",
            "3             aliteracy,books,classic,humor  \n",
            "4                 be-yourself,inspirational  \n",
            "5                   adulthood,success,value  \n",
            "6                                 life,love  \n",
            "7  edison,failure,inspirational,paraphrased  \n",
            "8           misattributed-eleanor-roosevelt  \n",
            "9                      humor,obvious,simile  \n"
          ]
        }
      ]
    }
  ]
}